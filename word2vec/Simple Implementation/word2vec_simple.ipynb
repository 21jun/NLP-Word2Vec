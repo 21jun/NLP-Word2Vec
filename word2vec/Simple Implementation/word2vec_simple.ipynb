{
  "nbformat": 4,
  "nbformat_minor": 0,
  "metadata": {
    "colab": {
      "name": "word2vec simple.ipynb",
      "provenance": [],
      "collapsed_sections": []
    },
    "kernelspec": {
      "name": "python3",
      "display_name": "Python 3"
    },
    "accelerator": "GPU"
  },
  "cells": [
    {
      "cell_type": "code",
      "metadata": {
        "id": "chNSZ0VgxFwH",
        "colab_type": "code",
        "colab": {}
      },
      "source": [
        "import torch\n",
        "import torch.nn  as  nn\n",
        "import torch.optim as optim\n",
        "import torch.nn.functional as F\n",
        "import numpy as np\n",
        "import pandas as pd"
      ],
      "execution_count": 0,
      "outputs": []
    },
    {
      "cell_type": "markdown",
      "metadata": {
        "id": "VOZ2w3yYxwUA",
        "colab_type": "text"
      },
      "source": [
        "## prepare corpus"
      ]
    },
    {
      "cell_type": "code",
      "metadata": {
        "id": "liCK3METxPXM",
        "colab_type": "code",
        "colab": {}
      },
      "source": [
        "def remove_stop_words(corpus):\n",
        "    stop_words = ['is', 'a', 'will', 'be']\n",
        "    results = []\n",
        "    for text in corpus:\n",
        "        tmp = text.split(' ')\n",
        "        for stop_word in stop_words:\n",
        "            if stop_word in tmp:\n",
        "                tmp.remove(stop_word)\n",
        "        results.append(\" \".join(tmp))\n",
        "    \n",
        "    return results"
      ],
      "execution_count": 0,
      "outputs": []
    },
    {
      "cell_type": "code",
      "metadata": {
        "id": "j1HFjBqyxIPs",
        "colab_type": "code",
        "colab": {}
      },
      "source": [
        "corpus = ['king is a strong man', \n",
        "          'queen is a wise woman', \n",
        "          'boy is a young man',\n",
        "          'girl is a young woman',\n",
        "          'prince is a young king',\n",
        "          'princess is a young queen',\n",
        "          'man is strong', \n",
        "          'woman is pretty',\n",
        "          'prince is a boy will be king',\n",
        "          'princess is a girl will be queen']"
      ],
      "execution_count": 0,
      "outputs": []
    },
    {
      "cell_type": "code",
      "metadata": {
        "id": "2DpphJXMxS39",
        "colab_type": "code",
        "colab": {}
      },
      "source": [
        "corpus = remove_stop_words(corpus)"
      ],
      "execution_count": 0,
      "outputs": []
    },
    {
      "cell_type": "code",
      "metadata": {
        "id": "RMzcpXE9xTX7",
        "colab_type": "code",
        "colab": {}
      },
      "source": [
        "words = []\n",
        "for text in corpus:\n",
        "    for word in text.split(' '):\n",
        "        words.append(word)\n",
        "\n",
        "words = set(words)"
      ],
      "execution_count": 0,
      "outputs": []
    },
    {
      "cell_type": "code",
      "metadata": {
        "id": "80OweT3dxW4O",
        "colab_type": "code",
        "colab": {}
      },
      "source": [
        "word2int = {}\n",
        "\n",
        "for i,word in enumerate(words):\n",
        "    word2int[word] = i\n",
        "\n",
        "sentences = []\n",
        "for sentence in corpus:\n",
        "    sentences.append(sentence.split())\n",
        "    \n",
        "WINDOW_SIZE = 2\n",
        "\n",
        "data = []\n",
        "for sentence in sentences:\n",
        "    for idx, word in enumerate(sentence):\n",
        "        for neighbor in sentence[max(idx - WINDOW_SIZE, 0) : min(idx + WINDOW_SIZE, len(sentence)) + 1] : \n",
        "            if neighbor != word:\n",
        "                data.append([word, neighbor])"
      ],
      "execution_count": 0,
      "outputs": []
    },
    {
      "cell_type": "code",
      "metadata": {
        "id": "R-tXXhOIxbLz",
        "colab_type": "code",
        "outputId": "eef12ffd-3e30-4e2e-a1a1-69abbd9cb0d7",
        "colab": {
          "base_uri": "https://localhost:8080/",
          "height": 197
        }
      },
      "source": [
        "for text in corpus:\n",
        "    print(text)\n",
        "\n",
        "df = pd.DataFrame(data, columns = ['input', 'label'])"
      ],
      "execution_count": 7,
      "outputs": [
        {
          "output_type": "stream",
          "text": [
            "king strong man\n",
            "queen wise woman\n",
            "boy young man\n",
            "girl young woman\n",
            "prince young king\n",
            "princess young queen\n",
            "man strong\n",
            "woman pretty\n",
            "prince boy king\n",
            "princess girl queen\n"
          ],
          "name": "stdout"
        }
      ]
    },
    {
      "cell_type": "code",
      "metadata": {
        "id": "6yqQZhrzxbzu",
        "colab_type": "code",
        "outputId": "c04120e7-63cc-4388-93cb-c3c016c6ec5e",
        "colab": {
          "base_uri": "https://localhost:8080/",
          "height": 359
        }
      },
      "source": [
        "df.head(10)"
      ],
      "execution_count": 8,
      "outputs": [
        {
          "output_type": "execute_result",
          "data": {
            "text/html": [
              "<div>\n",
              "<style scoped>\n",
              "    .dataframe tbody tr th:only-of-type {\n",
              "        vertical-align: middle;\n",
              "    }\n",
              "\n",
              "    .dataframe tbody tr th {\n",
              "        vertical-align: top;\n",
              "    }\n",
              "\n",
              "    .dataframe thead th {\n",
              "        text-align: right;\n",
              "    }\n",
              "</style>\n",
              "<table border=\"1\" class=\"dataframe\">\n",
              "  <thead>\n",
              "    <tr style=\"text-align: right;\">\n",
              "      <th></th>\n",
              "      <th>input</th>\n",
              "      <th>label</th>\n",
              "    </tr>\n",
              "  </thead>\n",
              "  <tbody>\n",
              "    <tr>\n",
              "      <th>0</th>\n",
              "      <td>king</td>\n",
              "      <td>strong</td>\n",
              "    </tr>\n",
              "    <tr>\n",
              "      <th>1</th>\n",
              "      <td>king</td>\n",
              "      <td>man</td>\n",
              "    </tr>\n",
              "    <tr>\n",
              "      <th>2</th>\n",
              "      <td>strong</td>\n",
              "      <td>king</td>\n",
              "    </tr>\n",
              "    <tr>\n",
              "      <th>3</th>\n",
              "      <td>strong</td>\n",
              "      <td>man</td>\n",
              "    </tr>\n",
              "    <tr>\n",
              "      <th>4</th>\n",
              "      <td>man</td>\n",
              "      <td>king</td>\n",
              "    </tr>\n",
              "    <tr>\n",
              "      <th>5</th>\n",
              "      <td>man</td>\n",
              "      <td>strong</td>\n",
              "    </tr>\n",
              "    <tr>\n",
              "      <th>6</th>\n",
              "      <td>queen</td>\n",
              "      <td>wise</td>\n",
              "    </tr>\n",
              "    <tr>\n",
              "      <th>7</th>\n",
              "      <td>queen</td>\n",
              "      <td>woman</td>\n",
              "    </tr>\n",
              "    <tr>\n",
              "      <th>8</th>\n",
              "      <td>wise</td>\n",
              "      <td>queen</td>\n",
              "    </tr>\n",
              "    <tr>\n",
              "      <th>9</th>\n",
              "      <td>wise</td>\n",
              "      <td>woman</td>\n",
              "    </tr>\n",
              "  </tbody>\n",
              "</table>\n",
              "</div>"
            ],
            "text/plain": [
              "    input   label\n",
              "0    king  strong\n",
              "1    king     man\n",
              "2  strong    king\n",
              "3  strong     man\n",
              "4     man    king\n",
              "5     man  strong\n",
              "6   queen    wise\n",
              "7   queen   woman\n",
              "8    wise   queen\n",
              "9    wise   woman"
            ]
          },
          "metadata": {
            "tags": []
          },
          "execution_count": 8
        }
      ]
    },
    {
      "cell_type": "code",
      "metadata": {
        "id": "GmCE0tFOxeUH",
        "colab_type": "code",
        "outputId": "7e2756fd-e37e-4cf6-c68f-abab602e5c3f",
        "colab": {
          "base_uri": "https://localhost:8080/",
          "height": 233
        }
      },
      "source": [
        "word2int"
      ],
      "execution_count": 9,
      "outputs": [
        {
          "output_type": "execute_result",
          "data": {
            "text/plain": [
              "{'boy': 10,\n",
              " 'girl': 8,\n",
              " 'king': 9,\n",
              " 'man': 0,\n",
              " 'pretty': 6,\n",
              " 'prince': 5,\n",
              " 'princess': 2,\n",
              " 'queen': 1,\n",
              " 'strong': 7,\n",
              " 'wise': 11,\n",
              " 'woman': 3,\n",
              " 'young': 4}"
            ]
          },
          "metadata": {
            "tags": []
          },
          "execution_count": 9
        }
      ]
    },
    {
      "cell_type": "code",
      "metadata": {
        "id": "Jchc-awoxgqe",
        "colab_type": "code",
        "colab": {}
      },
      "source": [
        "ONE_HOT_DIM = len(words)\n",
        "\n",
        "# function to convert numbers to one hot vectors\n",
        "def to_one_hot_encoding(data_point_index):\n",
        "    one_hot_encoding = np.zeros(ONE_HOT_DIM)\n",
        "    one_hot_encoding[data_point_index] = 1\n",
        "    return one_hot_encoding\n",
        "\n",
        "X = [] # input word\n",
        "Y = [] # target word\n",
        "\n",
        "for x, y in zip(df['input'], df['label']):\n",
        "    X.append(to_one_hot_encoding(word2int[ x ]))\n",
        "    Y.append(to_one_hot_encoding(word2int[ y ]))\n",
        "\n",
        "X = torch.Tensor(X)\n",
        "Y = torch.Tensor(Y)"
      ],
      "execution_count": 0,
      "outputs": []
    },
    {
      "cell_type": "code",
      "metadata": {
        "id": "wS2VEUAvx2TH",
        "colab_type": "code",
        "outputId": "bd170208-b8cf-4e31-c22f-0f5474ffe05e",
        "colab": {
          "base_uri": "https://localhost:8080/",
          "height": 161
        }
      },
      "source": [
        "X[:4], Y[:4]"
      ],
      "execution_count": 11,
      "outputs": [
        {
          "output_type": "execute_result",
          "data": {
            "text/plain": [
              "(tensor([[0., 0., 0., 0., 0., 0., 0., 0., 0., 1., 0., 0.],\n",
              "         [0., 0., 0., 0., 0., 0., 0., 0., 0., 1., 0., 0.],\n",
              "         [0., 0., 0., 0., 0., 0., 0., 1., 0., 0., 0., 0.],\n",
              "         [0., 0., 0., 0., 0., 0., 0., 1., 0., 0., 0., 0.]]),\n",
              " tensor([[0., 0., 0., 0., 0., 0., 0., 1., 0., 0., 0., 0.],\n",
              "         [1., 0., 0., 0., 0., 0., 0., 0., 0., 0., 0., 0.],\n",
              "         [0., 0., 0., 0., 0., 0., 0., 0., 0., 1., 0., 0.],\n",
              "         [1., 0., 0., 0., 0., 0., 0., 0., 0., 0., 0., 0.]]))"
            ]
          },
          "metadata": {
            "tags": []
          },
          "execution_count": 11
        }
      ]
    },
    {
      "cell_type": "markdown",
      "metadata": {
        "id": "Fba5lyybxry7",
        "colab_type": "text"
      },
      "source": [
        "## Modeling"
      ]
    },
    {
      "cell_type": "code",
      "metadata": {
        "id": "rrB3Q-dLyNZK",
        "colab_type": "code",
        "colab": {}
      },
      "source": [
        "device = 'cuda' if torch.cuda.is_available() else 'cpu'"
      ],
      "execution_count": 0,
      "outputs": []
    },
    {
      "cell_type": "code",
      "metadata": {
        "id": "Ixkn9uHNyOfr",
        "colab_type": "code",
        "outputId": "252b550b-f376-490c-fed5-ed558e4efa64",
        "colab": {
          "base_uri": "https://localhost:8080/",
          "height": 35
        }
      },
      "source": [
        "device"
      ],
      "execution_count": 13,
      "outputs": [
        {
          "output_type": "execute_result",
          "data": {
            "text/plain": [
              "'cuda'"
            ]
          },
          "metadata": {
            "tags": []
          },
          "execution_count": 13
        }
      ]
    },
    {
      "cell_type": "code",
      "metadata": {
        "id": "9SMNtQxsxoUB",
        "colab_type": "code",
        "colab": {}
      },
      "source": [
        "# Implementation in Linear layer\n",
        "class Word2VecWithLinear(nn.Module):\n",
        "\n",
        "    def __init__(self, embedding_size, vocab_size):\n",
        "        super(Word2VecWithLinear, self).__init__()\n",
        "        self.l1 = nn.Linear(vocab_size, embedding_size)\n",
        "        self.l2 = nn.Linear(embedding_size, vocab_size)\n",
        "\n",
        "    def forward(self, context_word):\n",
        "        # context_word must be one-hot encoded\n",
        "        # ex) [0., 0., 1., 0., 0., 0., 0., 0., 0., 0., 0., 0.]\n",
        "        x = self.l1(context_word)\n",
        "        x = self.l2(x)\n",
        "        return x\n",
        "\n",
        "# Implementation in Embedding layer\n",
        "class Word2VecWithEmbedding(nn.Module):\n",
        "\n",
        "    def __init__(self, embedding_size, vocab_size):\n",
        "        super(Word2VecWithEmbedding, self).__init__()\n",
        "        self.emb = nn.Embedding(vocab_size, embedding_size)\n",
        "        self.l2 = nn.Linear(embedding_size, vocab_size)\n",
        "\n",
        "    def forward(self, context_word):\n",
        "        # context_word must be one-hot encoded\n",
        "        # ex) [0., 0., 1., 0., 0., 0., 0., 0., 0., 0., 0., 0.]\n",
        "        index = context_word.long().argmax() # get index label\n",
        "        x = self.emb(index)\n",
        "        x = self.l2(x)\n",
        "        return x"
      ],
      "execution_count": 0,
      "outputs": []
    },
    {
      "cell_type": "code",
      "metadata": {
        "id": "MrznnPXnx_Nm",
        "colab_type": "code",
        "colab": {}
      },
      "source": [
        "model_1 = Word2VecWithLinear(2, ONE_HOT_DIM).to(device)\n",
        "model_2 = Word2VecWithEmbedding(2, ONE_HOT_DIM).to(device)"
      ],
      "execution_count": 0,
      "outputs": []
    },
    {
      "cell_type": "code",
      "metadata": {
        "id": "oYrKeTMAyRa5",
        "colab_type": "code",
        "colab": {}
      },
      "source": [
        "optimizer_1 = optim.Adam(model_1.parameters())\n",
        "optimizer_2 = optim.Adam(model_2.parameters()) \n",
        "criterion_1 = nn.CrossEntropyLoss()\n",
        "criterion_2 = nn.CrossEntropyLoss()"
      ],
      "execution_count": 0,
      "outputs": []
    },
    {
      "cell_type": "markdown",
      "metadata": {
        "id": "MRVcfRcez5dV",
        "colab_type": "text"
      },
      "source": [
        "train two model at once"
      ]
    },
    {
      "cell_type": "code",
      "metadata": {
        "id": "kgoO8tt-yUo0",
        "colab_type": "code",
        "outputId": "7502928d-51cb-4c04-8476-b1362fbac786",
        "colab": {
          "base_uri": "https://localhost:8080/",
          "height": 737
        }
      },
      "source": [
        "EPOCHS = 1000\n",
        "for epoch in range(EPOCHS):\n",
        "    train_loss_1 = 0\n",
        "    train_loss_2 = 0\n",
        "    for x, y in zip(X, Y):\n",
        "        model_1.zero_grad()\n",
        "        model_2.zero_grad()\n",
        "        input = x.to(device)\n",
        "        target = y.to(device)\n",
        "        output_1 = model_1(input)\n",
        "        output_2 = model_2(input)\n",
        "\n",
        "        loss_1 = criterion_1(output_1.unsqueeze(0), target.long().argmax().view(-1))\n",
        "        loss_1.backward()\n",
        "        loss_2 = criterion_2(output_2.unsqueeze(0), target.long().argmax().view(-1))\n",
        "        loss_2.backward()\n",
        "\n",
        "        optimizer_1.step()\n",
        "        optimizer_2.step()\n",
        "\n",
        "        batch_loss_1 = loss_1.item()\n",
        "        train_loss_1 += batch_loss_1        \n",
        "        batch_loss_2 = loss_2.item()\n",
        "        train_loss_2 += batch_loss_2\n",
        "\n",
        "    if epoch % 50 ==0:\n",
        "        print(train_loss_1)\n",
        "        print(train_loss_2)"
      ],
      "execution_count": 17,
      "outputs": [
        {
          "output_type": "stream",
          "text": [
            "132.04049241542816\n",
            "140.946040391922\n",
            "117.42888677120209\n",
            "114.32701992988586\n",
            "109.96578884124756\n",
            "106.29316771030426\n",
            "105.98914420604706\n",
            "101.6908050775528\n",
            "103.66302239894867\n",
            "98.60514307022095\n",
            "102.03041279315948\n",
            "96.30848062038422\n",
            "100.6804850101471\n",
            "94.51500952243805\n",
            "99.46794998645782\n",
            "93.31603264808655\n",
            "98.35454273223877\n",
            "92.54763555526733\n",
            "97.31624627113342\n",
            "92.00671875476837\n",
            "96.29803550243378\n",
            "91.59551417827606\n",
            "95.2103853225708\n",
            "91.26225876808167\n",
            "93.97252094745636\n",
            "90.97587883472443\n",
            "92.67914974689484\n",
            "90.71520709991455\n",
            "91.6533533334732\n",
            "90.46447157859802\n",
            "90.98368561267853\n",
            "90.21202981472015\n",
            "90.53340899944305\n",
            "89.95105195045471\n",
            "90.20182573795319\n",
            "89.68077790737152\n",
            "89.93857157230377\n",
            "89.40685176849365\n",
            "89.71683061122894\n",
            "89.1392468214035\n"
          ],
          "name": "stdout"
        }
      ]
    },
    {
      "cell_type": "code",
      "metadata": {
        "id": "N9BFciNvzjM3",
        "colab_type": "code",
        "colab": {}
      },
      "source": [
        "wordvec_w = model_1.cpu().l1.weight.detach().numpy()\n",
        "wordvec_b = model_1.cpu().l1.bias.detach().numpy()\n",
        "wordvec_1 = np.add(wordvec_w, wordvec_b.reshape(-1, 1))\n",
        "\n",
        "wordvec_2 = model_2.cpu().emb.weight.detach().numpy()"
      ],
      "execution_count": 0,
      "outputs": []
    },
    {
      "cell_type": "code",
      "metadata": {
        "id": "gSnopRxp0aiM",
        "colab_type": "code",
        "colab": {}
      },
      "source": [
        "int2word = {v: k for k, v in word2int.items()}"
      ],
      "execution_count": 0,
      "outputs": []
    },
    {
      "cell_type": "code",
      "metadata": {
        "id": "YafoYHeb0uUJ",
        "colab_type": "code",
        "colab": {}
      },
      "source": [
        "from matplotlib import pyplot as plt"
      ],
      "execution_count": 0,
      "outputs": []
    },
    {
      "cell_type": "code",
      "metadata": {
        "id": "a7YeSUcZ0dfr",
        "colab_type": "code",
        "outputId": "3adb7341-562c-453e-b165-f6c6233b2604",
        "colab": {
          "base_uri": "https://localhost:8080/",
          "height": 592
        }
      },
      "source": [
        "plt.figure(figsize=(10, 10))\n",
        "\n",
        "Xpos = wordvec_1[0]\n",
        "Ypos = wordvec_1[1]\n",
        "i = 0\n",
        "for x, y in zip(Xpos, Ypos):\n",
        "    plt.scatter(x, y)\n",
        "    plt.text(x+0.1, y, int2word[i], fontsize=10)\n",
        "    i+=1"
      ],
      "execution_count": 21,
      "outputs": [
        {
          "output_type": "display_data",
          "data": {
            "image/png": "[encoded data removed]",
            "text/plain": [
              "<Figure size 720x720 with 1 Axes>"
            ]
          },
          "metadata": {
            "tags": []
          }
        }
      ]
    },
    {
      "cell_type": "code",
      "metadata": {
        "id": "dm3KXi4X0nG2",
        "colab_type": "code",
        "outputId": "d73c72df-8cb4-48be-c4b1-2bd5772e25e0",
        "colab": {
          "base_uri": "https://localhost:8080/",
          "height": 592
        }
      },
      "source": [
        "plt.figure(figsize=(10, 10))\n",
        "\n",
        "Xpos = wordvec_2.T[0]\n",
        "Ypos = wordvec_2.T[1]\n",
        "i = 0\n",
        "for x, y in zip(Xpos, Ypos):\n",
        "    plt.scatter(x, y)\n",
        "    plt.text(x+0.1, y, int2word[i], fontsize=10)\n",
        "    i+=1"
      ],
      "execution_count": 22,
      "outputs": [
        {
          "output_type": "display_data",
          "data": {
            "image/png": "[encoded data removed]",
            "text/plain": [
              "<Figure size 720x720 with 1 Axes>"
            ]
          },
          "metadata": {
            "tags": []
          }
        }
      ]
    },
    {
      "cell_type": "code",
      "metadata": {
        "id": "yyayTSvU0vTo",
        "colab_type": "code",
        "colab": {}
      },
      "source": [
        ""
      ],
      "execution_count": 0,
      "outputs": []
    }
  ]
}